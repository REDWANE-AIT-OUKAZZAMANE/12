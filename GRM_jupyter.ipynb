{
  "cells": [
    {
      "cell_type": "markdown",
      "metadata": {
        "id": "view-in-github",
        "colab_type": "text"
      },
      "source": [
        "<a href=\"https://colab.research.google.com/github/REDWANE-AIT-OUKAZZAMANE/12/blob/master/GRM_jupyter.ipynb\" target=\"_parent\"><img src=\"https://colab.research.google.com/assets/colab-badge.svg\" alt=\"Open In Colab\"/></a>"
      ]
    },
    {
      "cell_type": "code",
      "execution_count": null,
      "metadata": {
        "id": "VjYy0F2gZIPR",
        "colab": {
          "base_uri": "https://localhost:8080/"
        },
        "outputId": "882c0174-e613-4d46-800a-4ec7035928ff"
      },
      "outputs": [
        {
          "output_type": "stream",
          "name": "stdout",
          "text": [
            "/content\n",
            "Cloning into 'GRM'...\n",
            "remote: Enumerating objects: 1840, done.\u001b[K\n",
            "remote: Counting objects: 100% (8/8), done.\u001b[K\n",
            "remote: Compressing objects: 100% (3/3), done.\u001b[K\n",
            "remote: Total 1840 (delta 5), reused 5 (delta 5), pack-reused 1832 (from 1)\u001b[K\n",
            "Receiving objects: 100% (1840/1840), 101.75 MiB | 14.77 MiB/s, done.\n",
            "Resolving deltas: 100% (954/954), done.\n",
            "/content/GRM\n",
            "The following additional packages will be installed:\n",
            "  libaria2-0 libc-ares2\n",
            "The following NEW packages will be installed:\n",
            "  aria2 libaria2-0 libc-ares2\n",
            "0 upgraded, 3 newly installed, 0 to remove and 35 not upgraded.\n",
            "Need to get 1,513 kB of archives.\n",
            "After this operation, 5,441 kB of additional disk space will be used.\n"
          ]
        }
      ],
      "source": [
        "%cd /content\n",
        "!GIT_LFS_SKIP_SMUDGE=1 git clone -b dev https://github.com/camenduru/GRM\n",
        "%cd /content/GRM\n",
        "\n",
        "!apt -y install -qq aria2\n",
        "!aria2c --console-log-level=error -c -x 16 -s 16 -k 1M https://huggingface.co/justimyhxu/GRM/resolve/main/grm_r.pth -d /content/GRM/checkpoints -o grm_r.pth\n",
        "!aria2c --console-log-level=error -c -x 16 -s 16 -k 1M https://huggingface.co/justimyhxu/GRM/resolve/main/grm_u.pth -d /content/GRM/checkpoints -o grm_u.pth\n",
        "!aria2c --console-log-level=error -c -x 16 -s 16 -k 1M https://huggingface.co/justimyhxu/GRM/resolve/main/grm_zero123plus.pth -d /content/GRM/checkpoints -o grm_zero123plus.pth\n",
        "!aria2c --console-log-level=error -c -x 16 -s 16 -k 1M https://huggingface.co/justimyhxu/GRM/resolve/main/instant3d.pth -d /content/GRM/checkpoints -o instant3d.pth\n",
        "\n",
        "!pip install gradio open3d fast-simplification fpsample diffusers trimesh pygltflib xatlas MiniballCpp pytorch-lightning omegaconf\n",
        "!pip install einops kornia open-clip-torch accelerate plyfile ninja imageio[ffmpeg] imageio[pyav]\n",
        "!pip install https://github.com/camenduru/wheels/releases/download/colab/nvdiffrast-0.3.1-py3-none-any.whl\n",
        "!pip install /content/GRM/third_party/diff-gaussian-rasterization\n",
        "# !pip install https://github.com/camenduru/wheels/releases/download/colab2/diff_gaussian_rasterization-0.0.0-cp310-cp310-linux_x86_64.3.whl\n",
        "\n",
        "!python app.py"
      ]
    },
    {
      "cell_type": "code",
      "metadata": {
        "id": "5eab8871"
      },
      "source": [
        "!pip install segment_anything"
      ],
      "execution_count": null,
      "outputs": []
    }
  ],
  "metadata": {
    "accelerator": "GPU",
    "colab": {
      "gpuType": "T4",
      "provenance": [],
      "include_colab_link": true
    },
    "kernelspec": {
      "display_name": "Python 3",
      "name": "python3"
    },
    "language_info": {
      "name": "python"
    }
  },
  "nbformat": 4,
  "nbformat_minor": 0
}